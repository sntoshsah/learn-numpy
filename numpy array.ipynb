{
 "cells": [
  {
   "cell_type": "code",
   "execution_count": 1,
   "id": "bd231fa1",
   "metadata": {},
   "outputs": [
    {
     "name": "stdout",
     "output_type": "stream",
     "text": [
      "[1 2 3 4 5]\n"
     ]
    }
   ],
   "source": [
    "    import numpy as np\n",
    "    arr=np.array([1,2,3,4,5])\n",
    "    print(arr)"
   ]
  },
  {
   "cell_type": "code",
   "execution_count": 2,
   "id": "bd5cad63",
   "metadata": {},
   "outputs": [
    {
     "name": "stdout",
     "output_type": "stream",
     "text": [
      "<class 'numpy.ndarray'>\n"
     ]
    }
   ],
   "source": [
    "print(type(arr))"
   ]
  },
  {
   "cell_type": "code",
   "execution_count": 3,
   "id": "862ccc59",
   "metadata": {},
   "outputs": [
    {
     "name": "stdout",
     "output_type": "stream",
     "text": [
      "[1 2 3 4 5]\n",
      "<class 'numpy.ndarray'>\n"
     ]
    }
   ],
   "source": [
    "# create array using tuple\n",
    "tup_arr=np.array((1,2,3,4,5))\n",
    "print(tup_arr)\n",
    "print(type(tup_arr))"
   ]
  },
  {
   "cell_type": "code",
   "execution_count": 8,
   "id": "9213ee4a",
   "metadata": {
    "collapsed": true
   },
   "outputs": [
    {
     "name": "stdout",
     "output_type": "stream",
     "text": [
      "0 dim\n",
      "420\n",
      "0\n",
      "1 Dim\n",
      "[11 12 13]\n",
      "1\n",
      "2 Dim\n",
      "[[1 2 3 4 5]\n",
      " [6 7 8 9 0]]\n",
      "2\n",
      "3 dim\n",
      "[[[1 2 3]\n",
      "  [4 5 6]\n",
      "  [7 8 9]]]\n",
      "3\n",
      "5 dim\n",
      "[[[[[1 2 3 4 5]]]]]\n",
      "5\n"
     ]
    }
   ],
   "source": [
    "# dimensions\n",
    "print(\"0 dim\")\n",
    "arr=np.array(420)#0 D\n",
    "print(arr)\n",
    "print(arr.ndim)\n",
    "print(\"1 Dim\")\n",
    "arr=np.array([11,12,13])# 1 D\n",
    "print(arr)\n",
    "print(arr.ndim)\n",
    "print(\"2 Dim\")\n",
    "arr=np.array([[1,2,3,4,5],[6,7,8,9,0]]) #2 D\n",
    "print(arr)\n",
    "print(arr.ndim)\n",
    "print(\"3 dim\")\n",
    "arr=np.array([[[1,2,3],[4,5,6],[7,8,9]]]) #3D\n",
    "print(arr)\n",
    "print(arr.ndim)\n",
    "print(\"5 dim\")\n",
    "arr=np.array([1,2,3,4,5],ndmin=5)\n",
    "print(arr)\n",
    "print(arr.ndim)"
   ]
  },
  {
   "cell_type": "code",
   "execution_count": 11,
   "id": "9330fbe0",
   "metadata": {
    "collapsed": true
   },
   "outputs": [
    {
     "name": "stdout",
     "output_type": "stream",
     "text": [
      "[1 2 3 4 5]\n",
      "1\n",
      "2\n",
      "7\n",
      "[1 2 3 4]\n",
      "[3 4 5]\n"
     ]
    }
   ],
   "source": [
    "#Array Indexing\n",
    "import numpy as np\n",
    "one=np.array([1,2,3,4,5])\n",
    "print(one)\n",
    "print(\"*******************************************************\")\n",
    "print(one[0])#returns first elements\n",
    "print(\"*******************************************************\")\n",
    "print(one[1])#returns second elements\n",
    "print(\"*******************************************************\")\n",
    "print(one[2]+one[3])#returns  sum of third and fourth elements\n",
    "print(\"*******************************************************\")\n",
    "print(one[:4])# returns the elements upto 4th position\n",
    "print(\"*******************************************************\")\n",
    "print(one[2:])#returns from the 3rd elements\n"
   ]
  },
  {
   "cell_type": "code",
   "execution_count": 18,
   "id": "20af6e65",
   "metadata": {
    "collapsed": true
   },
   "outputs": [
    {
     "name": "stdout",
     "output_type": "stream",
     "text": [
      "[[1 2 3 4 5]\n",
      " [6 7 8 9 0]]\n",
      "*********\n",
      "[6 7 8 9 0]\n",
      "[1 2 3 4 5]\n",
      "2\n",
      "7\n",
      "6\n",
      "1\n",
      "0\n",
      "5\n"
     ]
    }
   ],
   "source": [
    "import numpy as np\n",
    "two=np.array([[1,2,3,4,5],[6,7,8,9,0]])\n",
    "print(two)\n",
    "print(\"*********\")\n",
    "print(two[1])#returns second row\n",
    "print(two[0])#returns first row\n",
    "print(two[0,1])#returns first rows and second columns\n",
    "print(two[1,1])#returns second rows and second columns\n",
    "print(two[1,0])#returns second rows first columns\n",
    "print(two[0,0])#returns first rows first columns\n",
    "print(two[1,4])#returns second rows fourth columns\n",
    "print(two[0,4])#returns first rows fourth columns "
   ]
  },
  {
   "cell_type": "code",
   "execution_count": 27,
   "id": "6491d0b7",
   "metadata": {
    "collapsed": true
   },
   "outputs": [
    {
     "name": "stdout",
     "output_type": "stream",
     "text": [
      "[[['1' '2' '3']\n",
      "  ['4' '5' '6']\n",
      "  ['7' '8' '9']]\n",
      "\n",
      " [['9' '8' '7']\n",
      "  ['6' '5' '4']\n",
      "  ['3' '2' '1']]\n",
      "\n",
      " [['ram' 'shyam' 'vishnu']\n",
      "  ['luv' 'Kush' 'Ganesh']\n",
      "  ['sita' 'radha' 'laxmi']]]\n",
      "*******************************************************\n",
      "[['1' '2' '3']\n",
      " ['4' '5' '6']\n",
      " ['7' '8' '9']]\n",
      "*******************************************************\n",
      "[['9' '8' '7']\n",
      " ['6' '5' '4']\n",
      " ['3' '2' '1']]\n",
      "*******************************************************\n",
      "[['ram' 'shyam' 'vishnu']\n",
      " ['luv' 'Kush' 'Ganesh']\n",
      " ['sita' 'radha' 'laxmi']]\n",
      "*******************************************************\n",
      "['3' '2' '1']\n",
      "*******************************************************\n",
      "['luv' 'Kush' 'Ganesh']\n",
      "*******************************************************\n",
      "['7' '8' '9']\n",
      "*******************************************************\n",
      "['ram' 'shyam' 'vishnu']\n",
      "*******************************************************\n",
      "['luv' 'Kush' 'Ganesh']\n",
      "*******************************************************\n",
      "['3' '2' '1']\n",
      "*******************************************************\n",
      "sita\n",
      "*******************************************************\n",
      "7\n",
      "*******************************************************\n"
     ]
    }
   ],
   "source": [
    "three=np.array([[[1,2,3],[4,5,6],[7,8,9]],[[9,8,7],[6,5,4],[3,2,1]],[[\"ram\",\"shyam\",\"vishnu\"],[\"luv\",\"Kush\",\"Ganesh\"],[\"sita\",\"radha\",\"laxmi\"]]])\n",
    "print(three)\n",
    "print(\"*******************************************************\")\n",
    "print(three[0])\n",
    "print(\"*******************************************************\")\n",
    "print(three[1])\n",
    "print(\"*******************************************************\")\n",
    "print(three[2])\n",
    "print(\"*******************************************************\")\n",
    "print(three[1,2])\n",
    "print(\"*******************************************************\")\n",
    "print(three[2,1])\n",
    "print(\"*******************************************************\")\n",
    "print(three[0,2])\n",
    "print(\"*******************************************************\")\n",
    "print(three[2,0])\n",
    "print(\"*******************************************************\")\n",
    "print(three[2,1])\n",
    "print(\"*******************************************************\")\n",
    "print(three[1,2])\n",
    "print(\"*******************************************************\")\n",
    "print(three[2,2,0])\n",
    "print(\"*******************************************************\")\n",
    "print(three[1,0,2])\n",
    "print(\"*******************************************************\")"
   ]
  },
  {
   "cell_type": "code",
   "execution_count": 30,
   "id": "a228a33c",
   "metadata": {},
   "outputs": [
    {
     "name": "stdout",
     "output_type": "stream",
     "text": [
      "2\n",
      "5\n",
      "1\n",
      "9\n"
     ]
    }
   ],
   "source": [
    "print(one[-4])#returns 4th element from right side\n",
    "print(one[-1])#returns last element\n",
    "print(two[-1,-2])"
   ]
  },
  {
   "cell_type": "code",
   "execution_count": 33,
   "id": "a7f33703",
   "metadata": {},
   "outputs": [
    {
     "name": "stdout",
     "output_type": "stream",
     "text": [
      "[2 3 4 5]\n",
      "[2 4 6 8]\n",
      "[3 4 5 6 7 8]\n",
      "[1 2 3 4]\n",
      "[1 3 5 7]\n",
      "[6 7]\n"
     ]
    }
   ],
   "source": [
    "  # Array slicing\n",
    "arr=np.array([1,2,3,4,5,6,7,8])\n",
    "print(arr[1:5])\n",
    "print(arr[1:8:2])# 1 is for start position and 8 is for end position and 2 is steps\n",
    "print(arr[2:])\n",
    "print(arr[:4])\n",
    "print(arr[::2])# returns every other elements of the entire array\n",
    "print(arr[-3:-1])"
   ]
  },
  {
   "cell_type": "code",
   "execution_count": 39,
   "id": "66c750d6",
   "metadata": {},
   "outputs": [
    {
     "name": "stdout",
     "output_type": "stream",
     "text": [
      "[[1 2 3 4 5]\n",
      " [6 7 8 9 0]]\n",
      "[8 9]\n",
      "[3 4]\n",
      "[3 8]\n"
     ]
    }
   ],
   "source": [
    "two=np.array([[1,2,3,4,5],[6,7,8,9,0]])\n",
    "print(two)\n",
    "print(two[1,2:4])\n",
    "print(two[0,2:4])\n",
    "print(two[0:2,2])"
   ]
  },
  {
   "cell_type": "code",
   "execution_count": 42,
   "id": "b9f08b68",
   "metadata": {},
   "outputs": [
    {
     "name": "stdout",
     "output_type": "stream",
     "text": [
      "int64\n",
      "<U5\n",
      "float64\n"
     ]
    }
   ],
   "source": [
    "integer=np.array([1,2,3,4,5])\n",
    "print(integer.dtype)\n",
    "string=np.array([\"Ram\",\"Shyam\",\"Hari\"])\n",
    "print(string.dtype)\n",
    "Float=np.array([1.2,2.3,4,.5])\n",
    "print(Float.dtype)"
   ]
  },
  {
   "cell_type": "code",
   "execution_count": 44,
   "id": "9f8a5fb5",
   "metadata": {},
   "outputs": [
    {
     "name": "stdout",
     "output_type": "stream",
     "text": [
      "[b'1' b'2' b'3' b'4' b'5']\n",
      "|S1\n"
     ]
    }
   ],
   "source": [
    "#creating value with a defined data type\n",
    "intstr=np.array([1,2,3,4,5], dtype='S')\n",
    "print(intstr)\n",
    "print(intstr.dtype)"
   ]
  },
  {
   "cell_type": "code",
   "execution_count": 51,
   "id": "9a79115d",
   "metadata": {},
   "outputs": [
    {
     "name": "stdout",
     "output_type": "stream",
     "text": [
      "[1 2 3 5 2]\n",
      "int32\n"
     ]
    }
   ],
   "source": [
    "strint=np.array([1.2,2.4,3.4,5.3,2.5], dtype='i')\n",
    "print(strint)\n",
    "print(strint.dtype)"
   ]
  },
  {
   "cell_type": "code",
   "execution_count": 53,
   "id": "790b7006",
   "metadata": {},
   "outputs": [
    {
     "name": "stdout",
     "output_type": "stream",
     "text": [
      "[b'1' b'2' b'3' b'5' b'2']\n",
      "|S11\n"
     ]
    }
   ],
   "source": [
    "intostr=strint.astype(\"S\")\n",
    "print(intostr)\n",
    "print(intostr.dtype)"
   ]
  },
  {
   "cell_type": "code",
   "execution_count": 55,
   "id": "c4ba320e",
   "metadata": {},
   "outputs": [
    {
     "name": "stdout",
     "output_type": "stream",
     "text": [
      "[50  2  3  4  5]\n",
      "[1 2 3 4 5]\n",
      "[70  2  3  4  5]\n",
      "[70  2  3  4  5]\n"
     ]
    }
   ],
   "source": [
    "#copy vs view\n",
    "arrey=np.array([1,2,3,4,5])\n",
    "x=arrey.copy() #x creates new array with its own data\n",
    "arrey[0]=50\n",
    "print(arrey)\n",
    "print(x)\n",
    "y=arrey.view()# Y modifies the data of arrey and store it in original arrey\n",
    "arrey[0]=70\n",
    "print(arrey)\n",
    "print(y)"
   ]
  },
  {
   "cell_type": "code",
   "execution_count": 56,
   "id": "e39a97b1",
   "metadata": {},
   "outputs": [
    {
     "name": "stdout",
     "output_type": "stream",
     "text": [
      "None\n",
      "[70  2  3  4  5]\n"
     ]
    }
   ],
   "source": [
    "#checking if the array owns its data by using base attributes\n",
    "#None results means its doesn't owns its data\n",
    "print(x.base)\n",
    "print(y.base)"
   ]
  },
  {
   "cell_type": "code",
   "execution_count": 58,
   "id": "816df1c5",
   "metadata": {},
   "outputs": [
    {
     "name": "stdout",
     "output_type": "stream",
     "text": [
      "(5,)\n"
     ]
    }
   ],
   "source": [
    "print(arrey.shape)"
   ]
  },
  {
   "cell_type": "code",
   "execution_count": 59,
   "id": "77b2d020",
   "metadata": {},
   "outputs": [
    {
     "name": "stdout",
     "output_type": "stream",
     "text": [
      "[[1 2 3]\n",
      " [4 5 6]\n",
      " [7 8 9]]\n",
      "(3, 3)\n"
     ]
    }
   ],
   "source": [
    "arr=np.array([[1,2,3],[4,5,6],[7,8,9]])\n",
    "print(arr)\n",
    "print(arr.shape)"
   ]
  },
  {
   "cell_type": "code",
   "execution_count": 62,
   "id": "0b3ae20d",
   "metadata": {},
   "outputs": [
    {
     "name": "stdout",
     "output_type": "stream",
     "text": [
      "[1 2 3 4 5 6 7 8 9]\n",
      "(9,)\n"
     ]
    }
   ],
   "source": [
    "newarr=arr.reshape(9)\n",
    "print(newarr)\n",
    "print(newarr.shape)"
   ]
  },
  {
   "cell_type": "code",
   "execution_count": 63,
   "id": "d2d050ca",
   "metadata": {},
   "outputs": [
    {
     "name": "stdout",
     "output_type": "stream",
     "text": [
      "[[[1 2]\n",
      "  [3 4]\n",
      "  [5 6]]\n",
      "\n",
      " [[7 8]\n",
      "  [9 0]\n",
      "  [2 4]]]\n",
      "(2, 3, 2)\n"
     ]
    }
   ],
   "source": [
    "arr=np.array([1,2,3,4,5,6,7,8,9,0,2,4])\n",
    "ar=arr.reshape(2,3,2)\n",
    "print(ar)\n",
    "print(ar.shape)"
   ]
  },
  {
   "cell_type": "code",
   "execution_count": 66,
   "id": "6c592e8f",
   "metadata": {},
   "outputs": [
    {
     "name": "stdout",
     "output_type": "stream",
     "text": [
      "1\n",
      "2\n",
      "3\n",
      "4\n",
      "5\n",
      "6\n",
      "7\n",
      "8\n",
      "9\n",
      "0\n",
      "2\n",
      "4\n",
      "[1 2 3 4 5 6 7 8 9 0 2 4]\n"
     ]
    }
   ],
   "source": [
    "for x in arr:\n",
    "    print(x)\n",
    "    \n",
    "    \n",
    "print(arr)"
   ]
  },
  {
   "cell_type": "code",
   "execution_count": 67,
   "id": "0e0a7c98",
   "metadata": {},
   "outputs": [
    {
     "name": "stdout",
     "output_type": "stream",
     "text": [
      "[1 2 3]\n",
      "[3 2 3]\n"
     ]
    }
   ],
   "source": [
    "arr=np.array([[1,2,3],[3,2,3]])\n",
    "for x in arr:\n",
    "    print(x)"
   ]
  },
  {
   "cell_type": "code",
   "execution_count": 68,
   "id": "d8c4a99f",
   "metadata": {},
   "outputs": [
    {
     "name": "stdout",
     "output_type": "stream",
     "text": [
      "1\n",
      "2\n",
      "3\n",
      "3\n",
      "2\n",
      "3\n"
     ]
    }
   ],
   "source": [
    "for x in arr:\n",
    "    for y in x:\n",
    "        print(y)"
   ]
  },
  {
   "cell_type": "code",
   "execution_count": 69,
   "id": "583bff69",
   "metadata": {},
   "outputs": [
    {
     "name": "stdout",
     "output_type": "stream",
     "text": [
      "1\n",
      "2\n",
      "3\n",
      "3\n",
      "2\n",
      "3\n"
     ]
    }
   ],
   "source": [
    "for x in np.nditer(arr):\n",
    "    print(x)"
   ]
  },
  {
   "cell_type": "code",
   "execution_count": 71,
   "id": "885d2039",
   "metadata": {},
   "outputs": [
    {
     "name": "stdout",
     "output_type": "stream",
     "text": [
      "(0, 0) 1\n",
      "(0, 1) 2\n",
      "(0, 2) 3\n",
      "(1, 0) 3\n",
      "(1, 1) 2\n",
      "(1, 2) 3\n"
     ]
    }
   ],
   "source": [
    "for idx, x in np.ndenumerate(arr):\n",
    "    print(idx,x)"
   ]
  },
  {
   "cell_type": "code",
   "execution_count": 5,
   "id": "30941a6f",
   "metadata": {},
   "outputs": [
    {
     "name": "stdout",
     "output_type": "stream",
     "text": [
      "[[1 3 4 6]\n",
      " [2 4 6 7]\n",
      " [9 0 8 7]\n",
      " [5 4 3 6]]\n"
     ]
    }
   ],
   "source": [
    "import numpy as np\n",
    "arr1=np.array([[1,3,4,6],[2,4,6,7]])\n",
    "arr2=np.array([[9,0,8,7],[5,4,3,6]])\n",
    "join=np.concatenate((arr1,arr2))\n",
    "print(join)"
   ]
  },
  {
   "cell_type": "code",
   "execution_count": 7,
   "id": "868b761c",
   "metadata": {},
   "outputs": [
    {
     "name": "stdout",
     "output_type": "stream",
     "text": [
      "[[1 3 4 6 9 0 8 7]\n",
      " [2 4 6 7 5 4 3 6]]\n"
     ]
    }
   ],
   "source": [
    "axis1=np.concatenate((arr1,arr2),axis=1)\n",
    "print(axis1)"
   ]
  },
  {
   "cell_type": "code",
   "execution_count": 9,
   "id": "b732960a",
   "metadata": {},
   "outputs": [
    {
     "name": "stdout",
     "output_type": "stream",
     "text": [
      "[[[1 3 4 6]\n",
      "  [9 0 8 7]]\n",
      "\n",
      " [[2 4 6 7]\n",
      "  [5 4 3 6]]]\n"
     ]
    }
   ],
   "source": [
    "stack1=np.stack((arr1,arr2),axis=1)\n",
    "print(stack1)"
   ]
  },
  {
   "cell_type": "code",
   "execution_count": 11,
   "id": "67e87d0b",
   "metadata": {},
   "outputs": [
    {
     "name": "stdout",
     "output_type": "stream",
     "text": [
      "[[[1 9]\n",
      "  [3 0]\n",
      "  [4 8]\n",
      "  [6 7]]\n",
      "\n",
      " [[2 5]\n",
      "  [4 4]\n",
      "  [6 3]\n",
      "  [7 6]]]\n"
     ]
    }
   ],
   "source": [
    "stack2=np.stack((arr1,arr2),axis=2)\n",
    "print(stack2)"
   ]
  },
  {
   "cell_type": "code",
   "execution_count": 12,
   "id": "fa269044",
   "metadata": {},
   "outputs": [
    {
     "name": "stdout",
     "output_type": "stream",
     "text": [
      "[[1 3 4 6 9 0 8 7]\n",
      " [2 4 6 7 5 4 3 6]]\n"
     ]
    }
   ],
   "source": [
    "stackrow=np.hstack((arr1,arr2))\n",
    "print(stackrow)"
   ]
  },
  {
   "cell_type": "code",
   "execution_count": 13,
   "id": "27d0c51f",
   "metadata": {},
   "outputs": [
    {
     "name": "stdout",
     "output_type": "stream",
     "text": [
      "[[9 0 8 7]\n",
      " [5 4 3 6]\n",
      " [1 3 4 6]\n",
      " [2 4 6 7]]\n"
     ]
    }
   ],
   "source": [
    "stackcol=np.vstack((arr2,arr1))\n",
    "print(stackcol)"
   ]
  },
  {
   "cell_type": "code",
   "execution_count": 15,
   "id": "8f20d149",
   "metadata": {},
   "outputs": [
    {
     "name": "stdout",
     "output_type": "stream",
     "text": [
      "[array([1, 2, 3]), array([4, 5, 6]), array([7, 8])]\n"
     ]
    }
   ],
   "source": [
    "arr1=np.array([1,2,3,4,5,6,7,8])\n",
    "split1=np.array_split(arr1,3)# adjust the number of elements from last array\n",
    "print(split1)"
   ]
  },
  {
   "cell_type": "code",
   "execution_count": 16,
   "id": "ffd22422",
   "metadata": {},
   "outputs": [
    {
     "name": "stdout",
     "output_type": "stream",
     "text": [
      "[1 2 3]\n",
      "[4 5 6]\n",
      "[7 8]\n"
     ]
    }
   ],
   "source": [
    "print(split1[0])\n",
    "print(split1[1])\n",
    "print(split1[2])"
   ]
  },
  {
   "cell_type": "code",
   "execution_count": 17,
   "id": "f51287e7",
   "metadata": {},
   "outputs": [
    {
     "name": "stdout",
     "output_type": "stream",
     "text": [
      "[[1 2 3]\n",
      " [2 3 4]\n",
      " [3 4 5]]\n"
     ]
    }
   ],
   "source": [
    "arr2=np.array([[1,2,3],[2,3,4],[3,4,5]])\n",
    "print(arr2)"
   ]
  },
  {
   "cell_type": "code",
   "execution_count": 19,
   "id": "5bb23b25",
   "metadata": {},
   "outputs": [
    {
     "name": "stdout",
     "output_type": "stream",
     "text": [
      "2\n"
     ]
    }
   ],
   "source": [
    "print(arr2.ndim)"
   ]
  },
  {
   "cell_type": "code",
   "execution_count": 21,
   "id": "5b381f6c",
   "metadata": {},
   "outputs": [
    {
     "name": "stdout",
     "output_type": "stream",
     "text": [
      "[array([[1, 2, 3]]), array([[2, 3, 4]]), array([[3, 4, 5]])]\n"
     ]
    }
   ],
   "source": [
    "split2=np.array_split(arr2,3)\n",
    "print(split2)"
   ]
  },
  {
   "cell_type": "code",
   "execution_count": 32,
   "id": "381579a7",
   "metadata": {},
   "outputs": [
    {
     "name": "stdout",
     "output_type": "stream",
     "text": [
      "[array([[1, 2, 3]]), array([[2, 3, 4]]), array([[3, 4, 5]]), array([], shape=(0, 3), dtype=int64)]\n"
     ]
    }
   ],
   "source": [
    "split3=np.array_split(arr2,4)\n",
    "print(split3)"
   ]
  },
  {
   "cell_type": "code",
   "execution_count": 35,
   "id": "bdad0c56",
   "metadata": {},
   "outputs": [
    {
     "name": "stdout",
     "output_type": "stream",
     "text": [
      "[array([[1],\n",
      "       [2],\n",
      "       [3]]), array([[2],\n",
      "       [3],\n",
      "       [4]]), array([[3],\n",
      "       [4],\n",
      "       [5]])]\n",
      "****************************************************************\n",
      "[array([[1, 2, 3]]), array([[2, 3, 4]]), array([[3, 4, 5]])]\n",
      "********************************************************************\n",
      "[array([[[1],\n",
      "        [4],\n",
      "        [7]],\n",
      "\n",
      "       [[9],\n",
      "        [6],\n",
      "        [3]]]), array([[[2],\n",
      "        [5],\n",
      "        [8]],\n",
      "\n",
      "       [[8],\n",
      "        [5],\n",
      "        [2]]]), array([[[3],\n",
      "        [6],\n",
      "        [9]],\n",
      "\n",
      "       [[7],\n",
      "        [4],\n",
      "        [1]]])]\n",
      "******************************************************************\n"
     ]
    }
   ],
   "source": [
    "splitrow=np.hsplit(arr2,3)\n",
    "print(splitrow)\n",
    "print(\"****************************************************************\")\n",
    "splitcol=np.vsplit(arr2,3)\n",
    "print(splitcol)\n",
    "print(\"********************************************************************\")\n",
    "arr3=np.array([[[1,2,3],[4,5,6],[7,8,9]],[[9,8,7],[6,5,4],[3,2,1]]])\n",
    "splitdim=np.dsplit(arr3,3)\n",
    "print(splitdim)\n",
    "print(\"******************************************************************\")"
   ]
  },
  {
   "cell_type": "code",
   "execution_count": 6,
   "id": "7e519b38",
   "metadata": {},
   "outputs": [
    {
     "name": "stdout",
     "output_type": "stream",
     "text": [
      "(array([3]),)\n",
      "(array([1, 5, 6]),)\n",
      "(array([0, 2, 4, 7]),)\n",
      "(array([1, 3, 5, 6]),)\n"
     ]
    }
   ],
   "source": [
    "#search in array using where\n",
    "import numpy as np\n",
    "arr=np.array([1,2,3,4,5,2,2,9,])\n",
    "search=np.where(arr==4)# returns the index of 4\n",
    "sear=np.where(arr==2)# returns the indexes of 2\n",
    "odd=np.where(arr%2==1)\n",
    "even=np.where(arr%2==0)\n",
    "print(search)\n",
    "print(sear)\n",
    "print(odd)\n",
    "print(even)\n",
    "\n"
   ]
  },
  {
   "cell_type": "code",
   "execution_count": 11,
   "id": "8cec922e",
   "metadata": {},
   "outputs": [
    {
     "name": "stdout",
     "output_type": "stream",
     "text": [
      "5\n",
      "5\n",
      "[0 1 3]\n"
     ]
    }
   ],
   "source": [
    "# search using searchsorted\n",
    "arr2=np.array([1,5,3,9,8])\n",
    "left=np.searchsorted(arr2,9)# returns the indexes of 9 by sorted by left side\n",
    "right=np.searchsorted(arr2,9)#returns the indexes sorted by right side\n",
    "print(left)\n",
    "print(right)\n",
    "multiple=np.searchsorted(arr2,[1,3,8])\n",
    "print(multiple)\n"
   ]
  },
  {
   "cell_type": "code",
   "execution_count": 16,
   "id": "fa3d808e",
   "metadata": {},
   "outputs": [
    {
     "name": "stdout",
     "output_type": "stream",
     "text": [
      "[1 2 3 4 5 6]\n",
      "[1 4 3 2 6 5]\n",
      "[False False False  True  True]\n",
      "[[1 2 3 4]\n",
      " [5 6 7 8]]\n"
     ]
    }
   ],
   "source": [
    "#array sorting\n",
    "arr1=np.array([1,4,3,2,6,5])\n",
    "x=np.sort(arr1)# this returns a copy of array in sorted form\n",
    "print(x)\n",
    "print(arr1)\n",
    "arr2=np.array([True, False, True,False,False])\n",
    "print(np.sort(arr2))\n",
    "twoD=np.array([[1,4,2,3],[7,5,6,8]])\n",
    "print(np.sort(twoD))"
   ]
  },
  {
   "cell_type": "code",
   "execution_count": 20,
   "id": "42e4383e",
   "metadata": {},
   "outputs": [
    {
     "name": "stdout",
     "output_type": "stream",
     "text": [
      "[1 7]\n"
     ]
    }
   ],
   "source": [
    "arr=np.array([1,3,5,7])\n",
    "filt_arr=np.array([True,False,False,True])\n",
    "newarr=arr[filt_arr]\n",
    "print(newarr)"
   ]
  },
  {
   "cell_type": "code",
   "execution_count": 28,
   "id": "f27175a7",
   "metadata": {},
   "outputs": [
    {
     "name": "stdout",
     "output_type": "stream",
     "text": [
      "[2 4 6 8]\n"
     ]
    }
   ],
   "source": [
    "arr2=np.array([1,2,3,4,5,6,7,8,9])\n",
    "filt_arr=[]\n",
    "for element in arr2:\n",
    "    if element%2==0:\n",
    "        filt_arr.append(True)\n",
    "    else:\n",
    "        filt_arr.append(False)\n",
    "newarr=arr2[filt_arr]\n",
    "print(newarr)\n"
   ]
  },
  {
   "cell_type": "code",
   "execution_count": 29,
   "id": "128c0fdf",
   "metadata": {},
   "outputs": [
    {
     "name": "stdout",
     "output_type": "stream",
     "text": [
      "[43 36]\n"
     ]
    }
   ],
   "source": [
    "arr3=np.array([32,43,36,35])\n",
    "empty=[]\n",
    "for element in arr3:\n",
    "    if element>35:\n",
    "        empty.append(True)\n",
    "    else:\n",
    "        empty.append(False)\n",
    "newarr2=arr3[empty]\n",
    "print(newarr2)"
   ]
  },
  {
   "cell_type": "code",
   "execution_count": null,
   "id": "42e21209",
   "metadata": {},
   "outputs": [],
   "source": []
  }
 ],
 "metadata": {
  "kernelspec": {
   "display_name": "Python 3 (ipykernel)",
   "language": "python",
   "name": "python3"
  },
  "language_info": {
   "codemirror_mode": {
    "name": "ipython",
    "version": 3
   },
   "file_extension": ".py",
   "mimetype": "text/x-python",
   "name": "python",
   "nbconvert_exporter": "python",
   "pygments_lexer": "ipython3",
   "version": "3.9.12"
  }
 },
 "nbformat": 4,
 "nbformat_minor": 5
}
